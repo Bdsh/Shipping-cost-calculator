{
 "cells": [
  {
   "cell_type": "code",
   "execution_count": 7,
   "metadata": {},
   "outputs": [],
   "source": [
    "# Shipping Method Calculator"
   ]
  },
  {
   "cell_type": "code",
   "execution_count": 8,
   "metadata": {},
   "outputs": [],
   "source": [
    "# Standard Ground Shipping"
   ]
  },
  {
   "cell_type": "code",
   "execution_count": 9,
   "metadata": {},
   "outputs": [],
   "source": [
    "def stdGrndShip(weight):\n",
    "\n",
    "  if weight <= 2 :\n",
    "    price_per_pound = 1.50\n",
    "  elif weight <= 6:\n",
    "    price_per_pound = 3\n",
    "  elif weight <= 10:\n",
    "    price_per_pound = 4.50\n",
    "  else :\n",
    "    price_per_pound = 4.75\n",
    "  return (weight * price_per_pound) + 20"
   ]
  },
  {
   "cell_type": "code",
   "execution_count": 10,
   "metadata": {},
   "outputs": [],
   "source": [
    "# Premium Ground Shipping "
   ]
  },
  {
   "cell_type": "code",
   "execution_count": 11,
   "metadata": {},
   "outputs": [],
   "source": [
    "prmShip = 125.00"
   ]
  },
  {
   "cell_type": "code",
   "execution_count": 12,
   "metadata": {},
   "outputs": [],
   "source": [
    "# Drone Shipping"
   ]
  },
  {
   "cell_type": "code",
   "execution_count": 13,
   "metadata": {},
   "outputs": [],
   "source": [
    "def drnShip(weight):\n",
    "\n",
    "  if weight <= 2 :\n",
    "      price_per_pound = 4.50\n",
    "  elif weight <= 6:\n",
    "      price_per_pound = 9\n",
    "  elif weight <= 10:\n",
    "      price_per_pound = 12\n",
    "  else :\n",
    "      price_per_pound = 14.25\n",
    "  return weight * price_per_pound"
   ]
  },
  {
   "cell_type": "code",
   "execution_count": 14,
   "metadata": {},
   "outputs": [],
   "source": [
    "# Comparision of all shippping type"
   ]
  },
  {
   "cell_type": "code",
   "execution_count": 15,
   "metadata": {},
   "outputs": [],
   "source": [
    "def comprCheap(weight):\n",
    "  grndCost = stdGrndShip(weight)\n",
    "  prmCost = prmShip\n",
    "  drnCost = drnShip(weight)\n",
    "\n",
    "  if grndCost < drnCost and grndCost < prmCost:\n",
    "    cost = grndCost\n",
    "    method = \"Ground Shipping\"\n",
    "  elif grndCost > drnCost and drnCost < prmCost:\n",
    "    cost = drnCost\n",
    "    method = \"Drone Shipping\"\n",
    "  else :\n",
    "    cost = prmCost\n",
    "    method = \"Premium Ground Shipping\"\n",
    "\n",
    "  print(\"The cheapest option available is $%.2f with %s shipping.\"\n",
    "    % (cost, method)\n",
    "    )"
   ]
  },
  {
   "cell_type": "code",
   "execution_count": 16,
   "metadata": {},
   "outputs": [],
   "source": [
    "# Test Code"
   ]
  },
  {
   "cell_type": "code",
   "execution_count": 17,
   "metadata": {},
   "outputs": [
    {
     "name": "stdout",
     "output_type": "stream",
     "text": [
      "The cheapest option available is $34.40 with Ground Shipping shipping.\n"
     ]
    }
   ],
   "source": [
    "comprCheap(4.8)"
   ]
  },
  {
   "cell_type": "code",
   "execution_count": 18,
   "metadata": {},
   "outputs": [
    {
     "name": "stdout",
     "output_type": "stream",
     "text": [
      "The cheapest option available is $125.00 with Premium Ground Shipping shipping.\n"
     ]
    }
   ],
   "source": [
    "comprCheap(41.5)"
   ]
  },
  {
   "cell_type": "code",
   "execution_count": null,
   "metadata": {},
   "outputs": [],
   "source": []
  }
 ],
 "metadata": {
  "kernelspec": {
   "display_name": "Python 3",
   "language": "python",
   "name": "python3"
  },
  "language_info": {
   "codemirror_mode": {
    "name": "ipython",
    "version": 3
   },
   "file_extension": ".py",
   "mimetype": "text/x-python",
   "name": "python",
   "nbconvert_exporter": "python",
   "pygments_lexer": "ipython3",
   "version": "3.8.3"
  }
 },
 "nbformat": 4,
 "nbformat_minor": 4
}
